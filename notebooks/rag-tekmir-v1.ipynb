{
 "cells": [
  {
   "cell_type": "code",
   "execution_count": 3,
   "metadata": {},
   "outputs": [],
   "source": [
    "import os\n",
    "\n",
    "from lib.rag import Rag\n",
    "from bs4 import BeautifulSoup"
   ]
  },
  {
   "cell_type": "code",
   "execution_count": 2,
   "metadata": {},
   "outputs": [],
   "source": [
    "FOLDER_URL = \"../data/Technical\"\n",
    "html_files = [f for f in os.listdir(FOLDER_URL) if f.endswith('.html')]"
   ]
  },
  {
   "cell_type": "code",
   "execution_count": 4,
   "metadata": {},
   "outputs": [],
   "source": [
    "def process_file(path: str):\n",
    "    if not os.path.exists(path): return\n",
    "    with open(path, \"r\") as f:\n",
    "        html = f.read()\n",
    "    soup = BeautifulSoup(html, \"html.parser\")\n",
    "    text = soup.get_text()\n",
    "    return text"
   ]
  },
  {
   "cell_type": "code",
   "execution_count": 9,
   "metadata": {},
   "outputs": [],
   "source": [
    "text = ' '.join([process_file(f\"{FOLDER_URL}/{f}\") for f in html_files])\n",
    "text = text.replace('\\n', ' ')\n",
    "text = ' '.join(text.split())"
   ]
  },
  {
   "cell_type": "code",
   "execution_count": 12,
   "metadata": {},
   "outputs": [
    {
     "data": {
      "text/plain": [
       "<lib.data.Index at 0x137cdc3a0>"
      ]
     },
     "execution_count": 12,
     "metadata": {},
     "output_type": "execute_result"
    }
   ],
   "source": [
    "rag = Rag(\"claude-3-haiku\")\n",
    "rag.process_text(text)"
   ]
  },
  {
   "cell_type": "code",
   "execution_count": 14,
   "metadata": {},
   "outputs": [
    {
     "name": "stdout",
     "output_type": "stream",
     "text": [
      "Based on the context provided, it seems Tekmir follows a few key principles and practices for building their applications:\n",
      "\n",
      "\n",
      "1. Trunk-based development:\n",
      "   - Tekmir aims to follow standard trunk-based development practices using the\n",
      " main branch.\n",
      "   - This involves merging changes directly to the main branch, where they automatically deploy to staging\n",
      ".\n",
      "\n",
      "2. Component-based architecture:\n",
      "   - Tekmir breaks down their applications into standalone, abstract functional components\n",
      ".\n",
      "   - These components must adhere to principles like being dedicated to a specific function, being invokable\n",
      " from anywhere in the platform, and maintaining versioned interfaces.\n",
      "\n",
      "3. Staged environments:\n",
      "   - Tekmir has\n",
      " two long-lived environments: Staging (QA-owned) and Production (robust, live data).\n",
      "   \n",
      "- Temporary preview environments may also exist for testing certain functionality.\n",
      "\n",
      "4. Automated deployments:\n",
      "   - Changes merge\n",
      "d to the main branch automatically deploy to the staging environment.\n",
      "   - Once integration tests pass in staging, there is\n",
      " a manual deployment to production.\n",
      "\n",
      "5. Branching and merging conventions:\n",
      "   - Tekmir follows a set\n",
      " of branch naming rules, including using lowercase, hyphen-separated names, and including Jira ticket numbers.\n",
      "\n",
      "   - Developers must create feature, bugfix, or documentation branches and get 1 other developer to review\n",
      " changes before merging to main.\n",
      "\n",
      "6. Dependency management:\n",
      "   - Tekmir uses Poetry to manage dependencies for\n",
      " their services, with each service having its own Poetry context.\n",
      "\n",
      "Overall, Tekmir seems to follow modern software development\n",
      " best practices, including trunk-based development, component-based architecture, staged environments, automated deployments, an\n",
      "d well-defined branching and dependency management conventions."
     ]
    },
    {
     "data": {
      "text/plain": [
       "[{'type': 'object',\n",
       "  'data': {'text': 'Based on the context provided, it seems Tekmir follows a few key principles and practices for building their applications:\\n\\n1. Trunk-based development:\\n   - Tekmir aims to follow standard trunk-based development practices using the main branch.\\n   - This involves merging changes directly to the main branch, where they automatically deploy to staging.\\n\\n2. Component-based architecture:\\n   - Tekmir breaks down their applications into standalone, abstract functional components.\\n   - These components must adhere to principles like being dedicated to a specific function, being invokable from anywhere in the platform, and maintaining versioned interfaces.\\n\\n3. Staged environments:\\n   - Tekmir has two long-lived environments: Staging (QA-owned) and Production (robust, live data).\\n   - Temporary preview environments may also exist for testing certain functionality.\\n\\n4. Automated deployments:\\n   - Changes merged to the main branch automatically deploy to the staging environment.\\n   - Once integration tests pass in staging, there is a manual deployment to production.\\n\\n5. Branching and merging conventions:\\n   - Tekmir follows a set of branch naming rules, including using lowercase, hyphen-separated names, and including Jira ticket numbers.\\n   - Developers must create feature, bugfix, or documentation branches and get 1 other developer to review changes before merging to main.\\n\\n6. Dependency management:\\n   - Tekmir uses Poetry to manage dependencies for their services, with each service having its own Poetry context.\\n\\nOverall, Tekmir seems to follow modern software development best practices, including trunk-based development, component-based architecture, staged environments, automated deployments, and well-defined branching and dependency management conventions.',\n",
       "   'usage': {'input_tokens': 27625,\n",
       "    'output_tokens': 377,\n",
       "    'total_tokens': 28002},\n",
       "   'cost': {'input_tokens_cost': 0.00690625,\n",
       "    'output_tokens_cost': 0.00047125,\n",
       "    'total_cost': 0.0073775}}}]"
      ]
     },
     "execution_count": 14,
     "metadata": {},
     "output_type": "execute_result"
    }
   ],
   "source": [
    "rag.print_stream(\"what is our philosipy for building?\")"
   ]
  }
 ],
 "metadata": {
  "kernelspec": {
   "display_name": "venv",
   "language": "python",
   "name": "python3"
  },
  "language_info": {
   "codemirror_mode": {
    "name": "ipython",
    "version": 3
   },
   "file_extension": ".py",
   "mimetype": "text/x-python",
   "name": "python",
   "nbconvert_exporter": "python",
   "pygments_lexer": "ipython3",
   "version": "3.10.11"
  }
 },
 "nbformat": 4,
 "nbformat_minor": 2
}
