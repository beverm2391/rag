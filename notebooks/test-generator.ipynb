{
 "cells": [
  {
   "cell_type": "code",
   "execution_count": 1,
   "metadata": {},
   "outputs": [],
   "source": [
    "import nest_asyncio\n",
    "nest_asyncio.apply()\n",
    "from pydantic import BaseModel\n",
    "\n",
    "from lib.generators import QueryGeneratorAsync, GeneratorAsync"
   ]
  },
  {
   "cell_type": "code",
   "execution_count": 2,
   "metadata": {},
   "outputs": [
    {
     "name": "stdout",
     "output_type": "stream",
     "text": [
      "Initializing Anthropic Client...\n",
      "Model: claude-3-haiku\n",
      "Model Var: claude-3-haiku-20240307\n",
      "Max Tokens: 4096\n",
      "Input Tokens: 195903\n"
     ]
    }
   ],
   "source": [
    "gen = QueryGeneratorAsync(model=\"claude-3-haiku\", debug=True)"
   ]
  },
  {
   "cell_type": "code",
   "execution_count": 3,
   "metadata": {},
   "outputs": [
    {
     "name": "stdout",
     "output_type": "stream",
     "text": [
      "Generating 1 queries...\n",
      "Task id: 0 in: 1.37s\n",
      "1 of 1 tasks completed\n",
      "Total time: 1.37s\n",
      "Error count: 0\n"
     ]
    }
   ],
   "source": [
    "res = await gen.generate([\"What is your name?\"])"
   ]
  },
  {
   "cell_type": "code",
   "execution_count": 4,
   "metadata": {},
   "outputs": [
    {
     "data": {
      "text/plain": [
       "[{'text': \"what is the assistant's name\"},\n",
       " {'text': \"assistant's background information\"}]"
      ]
     },
     "execution_count": 4,
     "metadata": {},
     "output_type": "execute_result"
    }
   ],
   "source": [
    "res[0].parse()"
   ]
  }
 ],
 "metadata": {
  "kernelspec": {
   "display_name": "venv",
   "language": "python",
   "name": "python3"
  },
  "language_info": {
   "codemirror_mode": {
    "name": "ipython",
    "version": 3
   },
   "file_extension": ".py",
   "mimetype": "text/x-python",
   "name": "python",
   "nbconvert_exporter": "python",
   "pygments_lexer": "ipython3",
   "version": "3.10.11"
  }
 },
 "nbformat": 4,
 "nbformat_minor": 2
}
