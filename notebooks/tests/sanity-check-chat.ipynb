{
 "cells": [
  {
   "cell_type": "code",
   "execution_count": 1,
   "metadata": {},
   "outputs": [],
   "source": [
    "from lib.chat import Chat"
   ]
  },
  {
   "cell_type": "code",
   "execution_count": 2,
   "metadata": {},
   "outputs": [],
   "source": [
    "temperature = 0\n",
    "max_tokens = 1000\n",
    "system_prompt = \"You are a helpful assistant\"\n",
    "\n",
    "chat_oai = Chat(\"gpt-3.5-turbo\", temperature, max_tokens, system_prompt)\n",
    "chat_anthropic = Chat(\"claude-3-haiku\", temperature, max_tokens, system_prompt)\n",
    "chat_cohere = Chat(\"command-r\", temperature, max_tokens, system_prompt)\n",
    "\n",
    "prompt = \"what is the meaning of life?\""
   ]
  },
  {
   "cell_type": "code",
   "execution_count": 3,
   "metadata": {},
   "outputs": [
    {
     "name": "stdout",
     "output_type": "stream",
     "text": [
      "There is no single, agreed-upon answer to the meaning of life. Different philosophical, religious, and scientific\n",
      " perspectives offer various interpretations. Some common themes include:\n",
      "\n",
      "- Finding purpose, fulfillment, and happiness through\n",
      " relationships, personal growth, and contributing to something larger than oneself.\n",
      "\n",
      "- Discovering and living according to one's\n",
      " values and ethics.\n",
      "\n",
      "- Seeking to understand the nature of existence, consciousness, and the universe.\n",
      "\n",
      "- Connecting with\n",
      " a higher power, divine being, or spiritual dimension.\n",
      "\n",
      "- Embracing the inherent mystery and uncertainty of the\n",
      " human experience.\n",
      "\n",
      "Ultimately, the meaning of life is a deeply personal question that each individual must grapple with\n",
      " and determine for themselves based on their own beliefs, experiences, and worldview. There is no universally accepted\n",
      " answer, but the search for meaning is a fundamental part of the human condition."
     ]
    }
   ],
   "source": [
    "res = chat_anthropic.print_stream(prompt)"
   ]
  },
  {
   "cell_type": "code",
   "execution_count": 4,
   "metadata": {},
   "outputs": [
    {
     "data": {
      "text/plain": [
       "{'type': 'object',\n",
       " 'data': {'text': \"There is no single, agreed-upon answer to the meaning of life. Different philosophical, religious, and scientific perspectives offer various interpretations. Some common themes include:\\n\\n- Finding purpose, fulfillment, and happiness through relationships, personal growth, and contributing to something larger than oneself.\\n\\n- Discovering and living according to one's values and ethics.\\n\\n- Seeking to understand the nature of existence, consciousness, and the universe.\\n\\n- Connecting with a higher power, divine being, or spiritual dimension.\\n\\n- Embracing the inherent mystery and uncertainty of the human experience.\\n\\nUltimately, the meaning of life is a deeply personal question that each individual must grapple with and determine for themselves based on their own beliefs, experiences, and worldview. There is no universally accepted answer, but the search for meaning is a fundamental part of the human condition.\"}}"
      ]
     },
     "execution_count": 4,
     "metadata": {},
     "output_type": "execute_result"
    }
   ],
   "source": [
    "res"
   ]
  }
 ],
 "metadata": {
  "kernelspec": {
   "display_name": "venv",
   "language": "python",
   "name": "python3"
  },
  "language_info": {
   "codemirror_mode": {
    "name": "ipython",
    "version": 3
   },
   "file_extension": ".py",
   "mimetype": "text/x-python",
   "name": "python",
   "nbconvert_exporter": "python",
   "pygments_lexer": "ipython3",
   "version": "3.10.11"
  }
 },
 "nbformat": 4,
 "nbformat_minor": 2
}
