{
 "cells": [
  {
   "cell_type": "code",
   "execution_count": 1,
   "metadata": {},
   "outputs": [],
   "source": [
    "from lib.chat import Chat"
   ]
  },
  {
   "cell_type": "code",
   "execution_count": 2,
   "metadata": {},
   "outputs": [],
   "source": [
    "temperature = 0\n",
    "max_tokens = 1000\n",
    "\n",
    "chat_cohere = Chat.create(\"command-r\", temperature, max_tokens, \"You are a helpful assistant.\", debug=False, citations=True, web_search=True)\n",
    "\n",
    "prompt = \"what is the meaning of life?\""
   ]
  },
  {
   "cell_type": "code",
   "execution_count": 3,
   "metadata": {},
   "outputs": [
    {
     "name": "stdout",
     "output_type": "stream",
     "text": [
      "There is no one answer to the meaning of life as it's a subjective feeling or judgment. Different people and\n",
      " cultures have different beliefs about what the meaning of life is, and like everything else in life, it changes over\n",
      " time. \n",
      "\n",
      "Some people derive the meaning of life from their religious and spiritual beliefs. For instance, Judaism's most\n",
      " important feature is the worship of a single, transcendent God, and the meaning of life for Jews is to elevate\n",
      " the physical world and prepare it for the world to come. Meanwhile, Buddhists strive to embrace mindfulness in the ill\n",
      "-being and well-being that is present in life and attain dispassion to achieve the state of Nirvana\n",
      ".\n",
      "\n",
      "Others find meaning by helping others and solving problems, making the world a better place, and contributing to the\n",
      " well-being and spirit of others. Some people believe that the meaning of life is to be alive and that\n",
      " human life is an opportunity to understand God or the nature of the universe. For others, the meaning of life\n",
      " is deeply connected to their personal relationships and the impact they have on the world around them.\n",
      "\n",
      "Meaning can also be\n",
      " found in detecting the significance of life, understanding that your actions matter and have an influence on others, and the\n",
      " belief that your life makes sense. Psychologists call knowing your life's meaning \"presence\", and the drive to\n",
      " look for it \"search\". Presence is highly correlated with well-being, and researchers have identified three pathways to\n",
      " it:\n",
      "\n",
      "1. Significance: the feeling that your life matters to yourself and others, and that it would make\n",
      " a difference if you didn't exist.\n",
      "2. Coherence: the feeling that your life makes sense,\n",
      " and events happen for a reason.\n",
      "3. Purpose: the existence of personal goals and aims that give your life\n",
      " direction and meaning.\n",
      "\n",
      "The meaning of life may also be found in the simple enjoyment of life itself, being alive\n",
      " and experiencing the world around you. As the psychiatrist and neurologist Viktor Frankl puts it, “The point\n",
      " is not what we expect from life, but rather what life expects from us.”"
     ]
    }
   ],
   "source": [
    "res = chat_cohere.print_stream(prompt)"
   ]
  },
  {
   "cell_type": "code",
   "execution_count": 12,
   "metadata": {},
   "outputs": [
    {
     "data": {
      "text/plain": [
       "[ChatSearchQuery(text='what is the meaning of life', generation_id='8c044a25-0096-4d7e-b515-4bd277c240ab')]"
      ]
     },
     "execution_count": 12,
     "metadata": {},
     "output_type": "execute_result"
    }
   ],
   "source": [
    "res[0]['data']"
   ]
  }
 ],
 "metadata": {
  "kernelspec": {
   "display_name": "venv",
   "language": "python",
   "name": "python3"
  },
  "language_info": {
   "codemirror_mode": {
    "name": "ipython",
    "version": 3
   },
   "file_extension": ".py",
   "mimetype": "text/x-python",
   "name": "python",
   "nbconvert_exporter": "python",
   "pygments_lexer": "ipython3",
   "version": "3.10.11"
  }
 },
 "nbformat": 4,
 "nbformat_minor": 2
}
