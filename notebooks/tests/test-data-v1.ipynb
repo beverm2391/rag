{
 "cells": [
  {
   "cell_type": "code",
   "execution_count": 1,
   "metadata": {},
   "outputs": [],
   "source": [
    "import requests\n",
    "\n",
    "from lib.data import Index\n",
    "from lib.utils import count_tokens\n",
    "\n",
    "import nest_asyncio\n",
    "nest_asyncio.apply()"
   ]
  },
  {
   "cell_type": "code",
   "execution_count": 2,
   "metadata": {},
   "outputs": [],
   "source": [
    "text = requests.get(\"https://ocw.mit.edu/ans7870/6/6.006/s08/lecturenotes/files/t8.shakespeare.txt\").text"
   ]
  },
  {
   "cell_type": "code",
   "execution_count": 3,
   "metadata": {},
   "outputs": [],
   "source": [
    "text_ = text[:100000]"
   ]
  },
  {
   "cell_type": "code",
   "execution_count": 4,
   "metadata": {},
   "outputs": [
    {
     "data": {
      "text/plain": [
       "<lib.data.Index at 0x2932feef0>"
      ]
     },
     "execution_count": 4,
     "metadata": {},
     "output_type": "execute_result"
    }
   ],
   "source": [
    "index = Index(debug=True)\n",
    "index.process_text(text_)"
   ]
  },
  {
   "cell_type": "code",
   "execution_count": 5,
   "metadata": {},
   "outputs": [
    {
     "name": "stdout",
     "output_type": "stream",
     "text": [
      "Generated queries in 1.69 seconds\n",
      " - meaning of life philosophical perspectives\n",
      " - major philosophical theories on the meaning of life\n",
      " - existentialist and humanist views on the meaning of life\n"
     ]
    }
   ],
   "source": [
    "res = index.get(\"What is the meaning of life?\")"
   ]
  },
  {
   "cell_type": "code",
   "execution_count": 7,
   "metadata": {},
   "outputs": [],
   "source": [
    "docs, scores = res"
   ]
  },
  {
   "cell_type": "code",
   "execution_count": 9,
   "metadata": {},
   "outputs": [
    {
     "data": {
      "text/plain": [
       "(0.52,\n",
       " 0.46,\n",
       " 0.42,\n",
       " 0.33,\n",
       " 0.31,\n",
       " 0.3,\n",
       " 0.29,\n",
       " 0.27,\n",
       " 0.26,\n",
       " 0.25,\n",
       " 0.25,\n",
       " 0.25,\n",
       " 0.22,\n",
       " 0.21,\n",
       " 0.2,\n",
       " 0.17,\n",
       " 0.16,\n",
       " 0.15,\n",
       " 0.15,\n",
       " 0.11,\n",
       " 0.1,\n",
       " 0.1,\n",
       " 0.09,\n",
       " 0.07,\n",
       " 0.02)"
      ]
     },
     "execution_count": 9,
     "metadata": {},
     "output_type": "execute_result"
    }
   ],
   "source": [
    "scores"
   ]
  }
 ],
 "metadata": {
  "kernelspec": {
   "display_name": "venv",
   "language": "python",
   "name": "python3"
  },
  "language_info": {
   "codemirror_mode": {
    "name": "ipython",
    "version": 3
   },
   "file_extension": ".py",
   "mimetype": "text/x-python",
   "name": "python",
   "nbconvert_exporter": "python",
   "pygments_lexer": "ipython3",
   "version": "3.10.11"
  }
 },
 "nbformat": 4,
 "nbformat_minor": 2
}
