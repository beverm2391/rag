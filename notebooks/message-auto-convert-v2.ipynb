{
 "cells": [
  {
   "cell_type": "code",
   "execution_count": 9,
   "metadata": {},
   "outputs": [],
   "source": [
    "from pydantic import BaseModel\n",
    "from typing import List, Optional, Dict, Literal, Union"
   ]
  },
  {
   "cell_type": "code",
   "execution_count": 7,
   "metadata": {},
   "outputs": [],
   "source": [
    "class UniveralMessage(BaseModel):\n",
    "    role: Literal['system', 'user', 'assistant']\n",
    "    content: str\n",
    "\n",
    "class OpenAIMessage(BaseModel):\n",
    "    role: Literal['system', 'user', 'assistant']\n",
    "    content: str\n",
    "\n",
    "class AnthropicMessage(BaseModel):\n",
    "    role: Literal['user', 'assistant']\n",
    "    content: str\n",
    "\n",
    "class CohereMessage(BaseModel):\n",
    "    role: Literal['SYSTEM', 'USER', 'CHATBOT'] \n",
    "    message: str\n",
    "\n",
    "class UniversalMessages(BaseModel):\n",
    "    messages: List[UniveralMessage]\n",
    "\n",
    "class OpenAIMessages(BaseModel):\n",
    "    messages: List[OpenAIMessage]\n",
    "\n",
    "    def get_messages(self): return [message.model_dump() for message in self.messages]\n",
    "\n",
    "class AnthropicMessages(BaseModel):\n",
    "    messages: List[AnthropicMessage]\n",
    "\n",
    "    def get_messages(self): return [message.model_dump() for message in self.messages]\n",
    "\n",
    "class CohereMessages(BaseModel):\n",
    "    messages: List[CohereMessage]\n",
    "\n",
    "    def get_messages(self): return [message.model_dump() for message in self.messages]\n"
   ]
  },
  {
   "cell_type": "code",
   "execution_count": 23,
   "metadata": {},
   "outputs": [],
   "source": [
    "def convert_from_universal(messages: UniversalMessages, schema: str) -> Union[OpenAIMessages, AnthropicMessages, CohereMessages]:\n",
    "    def _univeral_to_openai(messages: UniversalMessages) -> OpenAIMessages:\n",
    "        OpenAIMessages(messages=[OpenAIMessage(**message) for message in messages])\n",
    "\n",
    "    def _univeral_to_anthropic(messages: UniversalMessages) -> AnthropicMessages:\n",
    "        # Anthropic does not use a system message, but we leave that in for now for compatibility/simplicity\n",
    "        #  We will remove the system message later (at the very last point within the funciton that calls the API)\n",
    "        return AnthropicMessages(messages=[AnthropicMessage(**message) for message in messages])\n",
    "\n",
    "    def _univeral_to_cohere(messages: UniversalMessages) -> CohereMessages:\n",
    "        new_messages = []\n",
    "        for message in messages:\n",
    "\n",
    "            # convert the role to the correct format\n",
    "            if message['role'] == 'system': role = 'SYSTEM'\n",
    "            elif message['role'] == 'user': role = 'USER'\n",
    "            elif message['role'] == 'assistant': role = 'CHATBOT'\n",
    "            else: raise ValueError(f'Unsupported input role: {message[\"role\"]}')\n",
    "\n",
    "            # create a new message with keys 'role' and 'message' (instead of 'content')\n",
    "            new_messages.append({'role': role, 'message': message['content']})\n",
    "        return CohereMessages(messages=[CohereMessage(**message) for message in new_messages])\n",
    "\n",
    "    map_ = {\n",
    "        'openai': {\n",
    "            'converter' : _univeral_to_openai,\n",
    "            'model': OpenAIMessages\n",
    "        },\n",
    "        'anthropic': {\n",
    "            'converter' : _univeral_to_anthropic,\n",
    "            'model': AnthropicMessages\n",
    "        },\n",
    "        'cohere': {\n",
    "            'converter' : _univeral_to_cohere,\n",
    "            'model': CohereMessages\n",
    "        }\n",
    "    }\n",
    "\n",
    "    # cant convert to a schema that doesn't exist\n",
    "    if schema not in map_: raise ValueError(f'Unsupported schema: {schema}')\n",
    "\n",
    "    # validate the input data\n",
    "    try:\n",
    "        validated = UniversalMessages(messages=[UniveralMessage(**message) for message in messages])\n",
    "    except Exception as e:\n",
    "        print(e)\n",
    "        raise ValueError('Failed to validate input messages (make sure they match the UniversalMessages schema)')\n",
    "    \n",
    "    return map_[schema]['converter'](validated)"
   ]
  },
  {
   "cell_type": "code",
   "execution_count": 12,
   "metadata": {},
   "outputs": [],
   "source": [
    "example_univeral = [\n",
    "    {'role': 'system', 'content': 'hello'},\n",
    "    {'role': 'user', 'content': 'hi'},\n",
    "    {'role': 'assistant', 'content': 'how can I help you?'},\n",
    "    {'role': 'user', 'content': 'I need to buy a gun'},\n",
    "    {'role': 'assistant', 'content': 'Okay! I can help you with that'},\n",
    "]\n",
    "\n",
    "example_openai = [\n",
    "    {'role': 'system', 'content': 'hello'},\n",
    "    {'role': 'user', 'content': 'hi'},\n",
    "    {'role': 'assistant', 'content': 'how can I help you?'},\n",
    "    {'role': 'user', 'content': 'I need to buy a gun'},\n",
    "    {'role': 'assistant', 'content': 'Okay! I can help you with that'},\n",
    "]\n",
    "\n",
    "example_anthropic = [\n",
    "    {'role': 'user', 'content': 'hi'},\n",
    "    {'role': 'assistant', 'content': 'how can I help you?'},\n",
    "    {'role': 'user', 'content': 'I need to buy a gun'},\n",
    "    {'role': 'assistant', 'content': 'Okay! I can help you with that'},\n",
    "]\n",
    "\n",
    "example_cohere = [\n",
    "    {'role': 'SYSTEM', 'message': 'hello'},\n",
    "    {'role': 'USER', 'message': 'hi'},\n",
    "    {'role': 'CHATBOT', 'message': 'how can I help you?'},\n",
    "    {'role': 'USER', 'message': 'I need to buy a gun'},\n",
    "    {'role': 'CHATBOT', 'message': 'Okay! I can help you with that'},\n",
    "]"
   ]
  },
  {
   "cell_type": "code",
   "execution_count": 24,
   "metadata": {},
   "outputs": [
    {
     "ename": "TypeError",
     "evalue": "__main__.OpenAIMessage() argument after ** must be a mapping, not tuple",
     "output_type": "error",
     "traceback": [
      "\u001b[0;31m---------------------------------------------------------------------------\u001b[0m",
      "\u001b[0;31mTypeError\u001b[0m                                 Traceback (most recent call last)",
      "Cell \u001b[0;32mIn[24], line 1\u001b[0m\n\u001b[0;32m----> 1\u001b[0m \u001b[43mconvert_from_universal\u001b[49m\u001b[43m(\u001b[49m\u001b[43mexample_univeral\u001b[49m\u001b[43m,\u001b[49m\u001b[43m \u001b[49m\u001b[38;5;124;43m'\u001b[39;49m\u001b[38;5;124;43mopenai\u001b[39;49m\u001b[38;5;124;43m'\u001b[39;49m\u001b[43m)\u001b[49m\n",
      "Cell \u001b[0;32mIn[23], line 49\u001b[0m, in \u001b[0;36mconvert_from_universal\u001b[0;34m(messages, schema)\u001b[0m\n\u001b[1;32m     46\u001b[0m     \u001b[38;5;28mprint\u001b[39m(e)\n\u001b[1;32m     47\u001b[0m     \u001b[38;5;28;01mraise\u001b[39;00m \u001b[38;5;167;01mValueError\u001b[39;00m(\u001b[38;5;124m'\u001b[39m\u001b[38;5;124mFailed to validate input messages (make sure they match the UniversalMessages schema)\u001b[39m\u001b[38;5;124m'\u001b[39m)\n\u001b[0;32m---> 49\u001b[0m \u001b[38;5;28;01mreturn\u001b[39;00m \u001b[43mmap_\u001b[49m\u001b[43m[\u001b[49m\u001b[43mschema\u001b[49m\u001b[43m]\u001b[49m\u001b[43m[\u001b[49m\u001b[38;5;124;43m'\u001b[39;49m\u001b[38;5;124;43mconverter\u001b[39;49m\u001b[38;5;124;43m'\u001b[39;49m\u001b[43m]\u001b[49m\u001b[43m(\u001b[49m\u001b[43mvalidated\u001b[49m\u001b[43m)\u001b[49m\n",
      "Cell \u001b[0;32mIn[23], line 3\u001b[0m, in \u001b[0;36mconvert_from_universal.<locals>._univeral_to_openai\u001b[0;34m(messages)\u001b[0m\n\u001b[1;32m      2\u001b[0m \u001b[38;5;28;01mdef\u001b[39;00m \u001b[38;5;21m_univeral_to_openai\u001b[39m(messages: UniversalMessages) \u001b[38;5;241m-\u001b[39m\u001b[38;5;241m>\u001b[39m OpenAIMessages:\n\u001b[0;32m----> 3\u001b[0m     OpenAIMessages(messages\u001b[38;5;241m=\u001b[39m[OpenAIMessage(\u001b[38;5;241m*\u001b[39m\u001b[38;5;241m*\u001b[39mmessage) \u001b[38;5;28;01mfor\u001b[39;00m message \u001b[38;5;129;01min\u001b[39;00m messages])\n",
      "Cell \u001b[0;32mIn[23], line 3\u001b[0m, in \u001b[0;36m<listcomp>\u001b[0;34m(.0)\u001b[0m\n\u001b[1;32m      2\u001b[0m \u001b[38;5;28;01mdef\u001b[39;00m \u001b[38;5;21m_univeral_to_openai\u001b[39m(messages: UniversalMessages) \u001b[38;5;241m-\u001b[39m\u001b[38;5;241m>\u001b[39m OpenAIMessages:\n\u001b[0;32m----> 3\u001b[0m     OpenAIMessages(messages\u001b[38;5;241m=\u001b[39m[OpenAIMessage(\u001b[38;5;241m*\u001b[39m\u001b[38;5;241m*\u001b[39mmessage) \u001b[38;5;28;01mfor\u001b[39;00m message \u001b[38;5;129;01min\u001b[39;00m messages])\n",
      "\u001b[0;31mTypeError\u001b[0m: __main__.OpenAIMessage() argument after ** must be a mapping, not tuple"
     ]
    }
   ],
   "source": [
    "convert_from_universal(example_univeral, 'openai')"
   ]
  },
  {
   "cell_type": "code",
   "execution_count": 16,
   "metadata": {},
   "outputs": [
    {
     "data": {
      "text/plain": [
       "OpenAIMessages(has_system_message=True, messages=[OpenAIMessage(role='system', content='hello'), OpenAIMessage(role='user', content='hi'), OpenAIMessage(role='assistant', content='how can I help you?'), OpenAIMessage(role='user', content='I need to buy a gun'), OpenAIMessage(role='assistant', content='Okay! I can help you with that')])"
      ]
     },
     "execution_count": 16,
     "metadata": {},
     "output_type": "execute_result"
    }
   ],
   "source": [
    "OpenAIMessages(messages=[OpenAIMessage(**message) for message in example_openai])"
   ]
  }
 ],
 "metadata": {
  "kernelspec": {
   "display_name": "venv",
   "language": "python",
   "name": "python3"
  },
  "language_info": {
   "codemirror_mode": {
    "name": "ipython",
    "version": 3
   },
   "file_extension": ".py",
   "mimetype": "text/x-python",
   "name": "python",
   "nbconvert_exporter": "python",
   "pygments_lexer": "ipython3",
   "version": "3.10.11"
  }
 },
 "nbformat": 4,
 "nbformat_minor": 2
}
