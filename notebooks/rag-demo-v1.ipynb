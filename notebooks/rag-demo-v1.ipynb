{
 "cells": [
  {
   "cell_type": "code",
   "execution_count": 2,
   "metadata": {},
   "outputs": [],
   "source": [
    "from functools import lru_cache\n",
    "import requests\n",
    "\n",
    "from lib.rag import Rag"
   ]
  },
  {
   "cell_type": "code",
   "execution_count": 3,
   "metadata": {},
   "outputs": [],
   "source": [
    "@lru_cache #? cache this to avoid multiple requests\n",
    "def shakespeare_text():\n",
    "    return requests.get(\"https://ocw.mit.edu/ans7870/6/6.006/s08/lecturenotes/files/t8.shakespeare.txt\").text"
   ]
  },
  {
   "cell_type": "code",
   "execution_count": 4,
   "metadata": {},
   "outputs": [],
   "source": [
    "text = shakespeare_text()"
   ]
  },
  {
   "cell_type": "code",
   "execution_count": 6,
   "metadata": {},
   "outputs": [],
   "source": [
    "text = text[:10000]"
   ]
  },
  {
   "cell_type": "code",
   "execution_count": 11,
   "metadata": {},
   "outputs": [],
   "source": [
    "temperature = 0.5\n",
    "max_tokens = 4096\n",
    "\n",
    "rag = Rag('claude-3-haiku', temperature, max_tokens, debug=False)"
   ]
  },
  {
   "cell_type": "code",
   "execution_count": 12,
   "metadata": {},
   "outputs": [
    {
     "data": {
      "text/plain": [
       "<lib.data.Index at 0x28661d660>"
      ]
     },
     "execution_count": 12,
     "metadata": {},
     "output_type": "execute_result"
    }
   ],
   "source": [
    "rag.process_text(text)"
   ]
  },
  {
   "cell_type": "code",
   "execution_count": 14,
   "metadata": {},
   "outputs": [
    {
     "name": "stdout",
     "output_type": "stream",
     "text": [
      "The full line is:\n",
      "\n",
      "\"Then let not winter's ragged hand deface\n",
      "In thee thy summer, ere\n",
      " thou be distill'd.\"\n",
      "\n",
      "This is a line from Shakespeare's Sonnet 5. The speaker is ur\n",
      "ging the young man addressed in the sonnet not to let the ravages of time (\"winter's ragged\n",
      " hand\") diminish or destroy the young man's beauty and youthfulness (\"thy summer\") before it has\n",
      " fully matured and been preserved (\"ere thou be distill'd\")."
     ]
    },
    {
     "data": {
      "text/plain": [
       "{'type': 'object',\n",
       " 'data': {'text': 'The full line is:\\n\\n\"Then let not winter\\'s ragged hand deface\\nIn thee thy summer, ere thou be distill\\'d.\"\\n\\nThis is a line from Shakespeare\\'s Sonnet 5. The speaker is urging the young man addressed in the sonnet not to let the ravages of time (\"winter\\'s ragged hand\") diminish or destroy the young man\\'s beauty and youthfulness (\"thy summer\") before it has fully matured and been preserved (\"ere thou be distill\\'d\").'}}"
      ]
     },
     "execution_count": 14,
     "metadata": {},
     "output_type": "execute_result"
    }
   ],
   "source": [
    "rag.print_stream(\"Finish the sentence: 'Then let not winter's ragged hand deface'\")"
   ]
  }
 ],
 "metadata": {
  "kernelspec": {
   "display_name": "venv",
   "language": "python",
   "name": "python3"
  },
  "language_info": {
   "codemirror_mode": {
    "name": "ipython",
    "version": 3
   },
   "file_extension": ".py",
   "mimetype": "text/x-python",
   "name": "python",
   "nbconvert_exporter": "python",
   "pygments_lexer": "ipython3",
   "version": "3.10.11"
  }
 },
 "nbformat": 4,
 "nbformat_minor": 2
}
