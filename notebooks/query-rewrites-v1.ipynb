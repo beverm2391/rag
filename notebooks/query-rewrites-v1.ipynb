{
 "cells": [
  {
   "cell_type": "code",
   "execution_count": 1,
   "metadata": {},
   "outputs": [],
   "source": [
    "from typing import List, Optional, Dict\n",
    "import nest_asyncio\n",
    "nest_asyncio.apply()\n",
    "\n",
    "from lib.generators import QueryGeneratorAsync\n",
    "from lib.utils import load_env"
   ]
  },
  {
   "cell_type": "code",
   "execution_count": 2,
   "metadata": {},
   "outputs": [],
   "source": [
    "vars = load_env(['OPENAI_API_KEY']) # load all vars, ensuring that a env exists and the expected vars are present\n",
    "OPENAI_API_KEY = vars['OPENAI_API_KEY']"
   ]
  },
  {
   "cell_type": "code",
   "execution_count": 5,
   "metadata": {},
   "outputs": [
    {
     "name": "stdout",
     "output_type": "stream",
     "text": [
      "Generating 1 queries...\n",
      "Task id: 0 in: 1.03s\n",
      "1 of 1 tasks completed\n",
      "Total time: 1.03s\n",
      "Error count: 0\n"
     ]
    }
   ],
   "source": [
    "gen = QueryGeneratorAsync(model='gpt-3.5-turbo', debug=True)\n",
    "res = await gen.generate(\"What does Ben Everman do?\")"
   ]
  },
  {
   "cell_type": "code",
   "execution_count": 6,
   "metadata": {},
   "outputs": [
    {
     "data": {
      "text/plain": [
       "[{'text': 'Ben Everman occupation'},\n",
       " {'text': 'Ben Everman job description'},\n",
       " {'text': 'Ben Everman work responsibilities'}]"
      ]
     },
     "execution_count": 6,
     "metadata": {},
     "output_type": "execute_result"
    }
   ],
   "source": [
    "res[0].parse()"
   ]
  }
 ],
 "metadata": {
  "kernelspec": {
   "display_name": "venv",
   "language": "python",
   "name": "python3"
  },
  "language_info": {
   "codemirror_mode": {
    "name": "ipython",
    "version": 3
   },
   "file_extension": ".py",
   "mimetype": "text/x-python",
   "name": "python",
   "nbconvert_exporter": "python",
   "pygments_lexer": "ipython3",
   "version": "3.10.11"
  }
 },
 "nbformat": 4,
 "nbformat_minor": 2
}
