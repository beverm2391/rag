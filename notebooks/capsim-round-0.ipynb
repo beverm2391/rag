{
 "cells": [
  {
   "cell_type": "code",
   "execution_count": 21,
   "metadata": {},
   "outputs": [],
   "source": [
    "from lib.rag import Rag\n",
    "from lib.utils import pdf_to_text\n",
    "import os"
   ]
  },
  {
   "cell_type": "code",
   "execution_count": 22,
   "metadata": {},
   "outputs": [],
   "source": [
    "base_fpath = \"../data/CapSim\"\n",
    "paths = [f\"{base_fpath}/{p}\" for p in os.listdir(base_fpath)]\n",
    "texts = \" \".join([pdf_to_text(p) for p in paths])"
   ]
  },
  {
   "cell_type": "code",
   "execution_count": 25,
   "metadata": {},
   "outputs": [],
   "source": [
    "system_prompt = \"You are designed to make specific technical decisons based on the provided information. You are an MBA student playing a capstone simulation and your goal is to make the best decisions provided the imformation.\"\"\""
   ]
  },
  {
   "cell_type": "code",
   "execution_count": 26,
   "metadata": {},
   "outputs": [
    {
     "data": {
      "text/plain": [
       "<lib.data.Index at 0x2a8f2c040>"
      ]
     },
     "execution_count": 26,
     "metadata": {},
     "output_type": "execute_result"
    }
   ],
   "source": [
    "rag = Rag('gpt-4-turbo', 0, 4096, debug=False, system_prompt=system_prompt)\n",
    "rag.process_text(texts)"
   ]
  },
  {
   "cell_type": "code",
   "execution_count": null,
   "metadata": {},
   "outputs": [],
   "source": [
    "situation = \"\"\"\n",
    "\n",
    "\"\"\""
   ]
  },
  {
   "cell_type": "code",
   "execution_count": 27,
   "metadata": {},
   "outputs": [],
   "source": [
    "query = \"\"\"\n",
    "What is the best round 0 decision for finance?\n",
    "Should we issue stock? If so, how much?\n",
    "Should we retire our stock? If so, how much?\n",
    "Should we pay a dividend? If so, how much?\n",
    "Should we borrow money? If so, how much?\n",
    "Should we issue or retire long term debt? If so, how much?\n",
    "Should we change out AP/AR lag from 30 / 30 days?\n",
    "Overall, list all your recommended decitiosn.\n",
    "\"\"\""
   ]
  },
  {
   "cell_type": "code",
   "execution_count": 28,
   "metadata": {},
   "outputs": [
    {
     "name": "stdout",
     "output_type": "stream",
     "text": [
      "Given the comprehensive contexts provided, the best round 0 finance decisions should be strategically aligned with the goal of optimizing your\n",
      " company's financial health, leveraging growth opportunities, and managing risks effectively. Here are the recommended decisions based on the\n",
      " provided contexts:\n",
      "\n",
      "1. **Issue Stock**: Yes, consider issuing stock if your company needs additional capital for investments\n",
      " in capacity, automation, or R&D without excessively leveraging debt. The amount to issue should not exceed 20\n",
      "% of your company's outstanding shares to avoid diluting existing shareholders too much. Calculate the needed investment and issue\n",
      " enough stock to cover part of it, keeping in mind the 5% brokerage fee.\n",
      "\n",
      "2. **Ret\n",
      "ire Stock**: Retiring stock could be a good move if your company has excess cash and wants to improve earnings\n",
      " per share (EPS) and return on equity (ROE). However, this should be balanced against the need\n",
      " for cash reserves for investments and debt management. If deciding to retire stock, do so cautiously, ensuring enough liquidity\n",
      " remains for operational needs and growth initiatives.\n",
      "\n",
      "3. **Pay Dividend**: Paying a dividend can signal confidence\n",
      " to investors about your company's profitability and future prospects. However, ensure that the dividend payout does not compromise your\n",
      " ability to fund necessary investments or manage debt. A modest dividend could be considered if your company has stable earnings and\n",
      " excess cash, but prioritize growth and debt management.\n",
      "\n",
      "4. **Borrow Money**: Borrowing can be strategic\n",
      " for funding investments that drive growth, especially if the cost of debt is lower than the expected return on investment.\n",
      " Use the rule of thumb provided (75% of Accounts Receivable and 50% of inventory) to calculate\n",
      " a safe borrowing amount. Ensure that borrowing does not jeopardize your company's credit rating or lead to excessive interest\n",
      " expenses.\n",
      "\n",
      "5. **Issue or Retire Long-Term Debt**: If your company needs to fund long-term\n",
      " investments and has a healthy debt-to-equity ratio, issuing long-term debt could be beneficial. The amount should\n",
      " align with your investment needs and capacity to service the debt. Conversely, if your company has excess cash and high\n",
      "-interest long-term debt, consider retiring some of it to reduce interest expenses and improve financial health.\n",
      "\n",
      "6. **\n",
      "Change AP/AR Lag**: Adjusting Accounts Payable (AP) and Accounts Receivable (AR) l\n",
      "ags can improve cash flow. Extending AP from 30 to 45 days can temporarily improve liquidity, but\n",
      " be cautious of supplier relationships. Shortening AR from 30 to 15 days improves cash inflow but may\n",
      " impact customer relations and sales. Balance these considerations based on your company's cash flow needs and market position.\n",
      "\n",
      "###\n",
      " Recommended Decisions Summary:\n",
      "- **Issue Stock**: Yes, if needed for growth investments, up to 20\n",
      "% of outstanding shares.\n",
      "- **Retire Stock**: Consider if excess cash is available, but prioritize liquidity for\n",
      " operations and growth.\n",
      "- **Pay Dividend**: Only if there's excess cash and it doesn't compromise growth\n",
      " or debt management.\n",
      "- **Borrow Money**: Up to 75% of AR and 50% of\n",
      " inventory, ensuring it doesn't harm the credit rating.\n",
      "- **Issue/Retire Long-Term Debt**:\n",
      " Based on investment needs and financial health.\n",
      "- **Change AP/AR Lag**: Adjust to improve cash flow,\n",
      " considering impacts on suppliers and customers.\n",
      "\n",
      "Each decision should be carefully evaluated against your company's current financial position, market\n",
      " conditions, and strategic objectives. Regularly review these decisions as conditions change and new information becomes available."
     ]
    },
    {
     "data": {
      "text/plain": [
       "[{'type': 'object',\n",
       "  'data': {'text': \"Given the comprehensive contexts provided, the best round 0 finance decisions should be strategically aligned with the goal of optimizing your company's financial health, leveraging growth opportunities, and managing risks effectively. Here are the recommended decisions based on the provided contexts:\\n\\n1. **Issue Stock**: Yes, consider issuing stock if your company needs additional capital for investments in capacity, automation, or R&D without excessively leveraging debt. The amount to issue should not exceed 20% of your company's outstanding shares to avoid diluting existing shareholders too much. Calculate the needed investment and issue enough stock to cover part of it, keeping in mind the 5% brokerage fee.\\n\\n2. **Retire Stock**: Retiring stock could be a good move if your company has excess cash and wants to improve earnings per share (EPS) and return on equity (ROE). However, this should be balanced against the need for cash reserves for investments and debt management. If deciding to retire stock, do so cautiously, ensuring enough liquidity remains for operational needs and growth initiatives.\\n\\n3. **Pay Dividend**: Paying a dividend can signal confidence to investors about your company's profitability and future prospects. However, ensure that the dividend payout does not compromise your ability to fund necessary investments or manage debt. A modest dividend could be considered if your company has stable earnings and excess cash, but prioritize growth and debt management.\\n\\n4. **Borrow Money**: Borrowing can be strategic for funding investments that drive growth, especially if the cost of debt is lower than the expected return on investment. Use the rule of thumb provided (75% of Accounts Receivable and 50% of inventory) to calculate a safe borrowing amount. Ensure that borrowing does not jeopardize your company's credit rating or lead to excessive interest expenses.\\n\\n5. **Issue or Retire Long-Term Debt**: If your company needs to fund long-term investments and has a healthy debt-to-equity ratio, issuing long-term debt could be beneficial. The amount should align with your investment needs and capacity to service the debt. Conversely, if your company has excess cash and high-interest long-term debt, consider retiring some of it to reduce interest expenses and improve financial health.\\n\\n6. **Change AP/AR Lag**: Adjusting Accounts Payable (AP) and Accounts Receivable (AR) lags can improve cash flow. Extending AP from 30 to 45 days can temporarily improve liquidity, but be cautious of supplier relationships. Shortening AR from 30 to 15 days improves cash inflow but may impact customer relations and sales. Balance these considerations based on your company's cash flow needs and market position.\\n\\n### Recommended Decisions Summary:\\n- **Issue Stock**: Yes, if needed for growth investments, up to 20% of outstanding shares.\\n- **Retire Stock**: Consider if excess cash is available, but prioritize liquidity for operations and growth.\\n- **Pay Dividend**: Only if there's excess cash and it doesn't compromise growth or debt management.\\n- **Borrow Money**: Up to 75% of AR and 50% of inventory, ensuring it doesn't harm the credit rating.\\n- **Issue/Retire Long-Term Debt**: Based on investment needs and financial health.\\n- **Change AP/AR Lag**: Adjust to improve cash flow, considering impacts on suppliers and customers.\\n\\nEach decision should be carefully evaluated against your company's current financial position, market conditions, and strategic objectives. Regularly review these decisions as conditions change and new information becomes available.\",\n",
       "   'usage': {'input_tokens': 10298,\n",
       "    'output_tokens': 703,\n",
       "    'total_tokens': 11001},\n",
       "   'cost': {'input_tokens_cost': 0.10298,\n",
       "    'output_tokens_cost': 0.02109,\n",
       "    'total_cost': 0.12407}}}]"
      ]
     },
     "execution_count": 28,
     "metadata": {},
     "output_type": "execute_result"
    }
   ],
   "source": [
    "rag.print_stream(query, top_n=10, line_size=22)"
   ]
  }
 ],
 "metadata": {
  "kernelspec": {
   "display_name": "venv",
   "language": "python",
   "name": "python3"
  },
  "language_info": {
   "codemirror_mode": {
    "name": "ipython",
    "version": 3
   },
   "file_extension": ".py",
   "mimetype": "text/x-python",
   "name": "python",
   "nbconvert_exporter": "python",
   "pygments_lexer": "ipython3",
   "version": "3.10.11"
  }
 },
 "nbformat": 4,
 "nbformat_minor": 2
}
