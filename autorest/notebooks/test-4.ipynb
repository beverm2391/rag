{
 "cells": [
  {
   "cell_type": "code",
   "execution_count": 1,
   "metadata": {},
   "outputs": [],
   "source": [
    "from autorest.lib import GenerativeConfig, AutoRest\n",
    "import nest_asyncio\n",
    "nest_asyncio.apply()\n",
    "\n",
    "import random"
   ]
  },
  {
   "cell_type": "code",
   "execution_count": 2,
   "metadata": {},
   "outputs": [],
   "source": [
    "ROOT_DIR = \"/Users/beneverman/Documents/Code/Tekmir/case-management-pipeline/case_management_pipeline/projects/api-hub\"\n",
    "db_models = f\"api_hub/database/models.py\"\n",
    "routes_dir = f\"api_hub/api/v1/routes/\"\n",
    "db_repos = f\"api_hub/database/repositories/\"\n",
    "pydantic_models = f\"api_hub/api/models.py\"\n",
    "output_dir  = \"\""
   ]
  },
  {
   "cell_type": "code",
   "execution_count": 3,
   "metadata": {},
   "outputs": [],
   "source": [
    "config = GenerativeConfig(root_dir=ROOT_DIR, debug=True)"
   ]
  },
  {
   "cell_type": "code",
   "execution_count": 4,
   "metadata": {},
   "outputs": [
    {
     "name": "stdout",
     "output_type": "stream",
     "text": [
      "joining relative path to root dir /Users/beneverman/Documents/Code/Tekmir/case-management-pipeline/case_management_pipeline/projects/api-hub\n"
     ]
    }
   ],
   "source": [
    "config.set_db_models(db_models)"
   ]
  },
  {
   "cell_type": "code",
   "execution_count": 5,
   "metadata": {},
   "outputs": [
    {
     "data": {
      "text/plain": [
       "'FormIntergration'"
      ]
     },
     "execution_count": 5,
     "metadata": {},
     "output_type": "execute_result"
    }
   ],
   "source": [
    "list(config.db_models.keys())[random.randint(0, len(config.db_models.keys()))]"
   ]
  },
  {
   "cell_type": "code",
   "execution_count": 6,
   "metadata": {},
   "outputs": [],
   "source": [
    "autorest = AutoRest(config, 'MedicalInjury', debug=True, model='claude-3-opus')"
   ]
  },
  {
   "cell_type": "code",
   "execution_count": 7,
   "metadata": {},
   "outputs": [
    {
     "name": "stdout",
     "output_type": "stream",
     "text": [
      "Initializing Anthropic Client...\n",
      "Model: claude-3-opus\n",
      "Model Var: claude-3-opus-20240229\n",
      "Max Tokens: 4096\n",
      "Input Tokens: 195903\n",
      "Generating 1 queries...\n",
      "Task id: 0 in: 12.63s\n",
      "1 of 1 tasks completed\n",
      "Total time: 12.63s\n",
      "Error count: 0\n",
      "Trying code:\n",
      "from uuid import UUID\n",
      "from datetime import date\n",
      "from typing import Optional\n",
      "from pydantic import BaseModel\n",
      "from enum import Enum\n",
      "class DatePrecisionEnum(str, Enum):\n",
      "    Year = \"Year\"\n",
      "    Month = \"Month\"\n",
      "    Day = \"Day\"\n",
      "    Unknown = \"Unknown\"\n",
      "\n",
      "class MedicalInjurySchema(BaseModel):\n",
      "    id: UUID\n",
      "    injury_id: UUID\n",
      "    onset_date: Optional[date]\n",
      "    onset_date_precision: Optional[DatePrecisionEnum]\n",
      "    onset_state: Optional[str]\n",
      "    is_diagnosed: Optional[bool] = False\n",
      "    diagnosis_date: Optional[date]\n",
      "    diagnosis_date_precision: Optional[DatePrecisionEnum]\n",
      "    diagnosis_state: Optional[str]\n",
      "    diagnosis_provider_id: Optional[UUID]\n",
      "    injury_severity: Optional[str]\n",
      "    medical_injury_sub_type: Optional[str]\n",
      "\n",
      "    class Config:\n",
      "        from_attributes = True\n",
      "        use_enum_values = True\n",
      "Code is valid!\n"
     ]
    }
   ],
   "source": [
    "await autorest.generate_pydantic_model()"
   ]
  },
  {
   "cell_type": "code",
   "execution_count": 8,
   "metadata": {},
   "outputs": [
    {
     "name": "stdout",
     "output_type": "stream",
     "text": [
      "Initializing Anthropic Client...\n",
      "Model: claude-3-opus\n",
      "Model Var: claude-3-opus-20240229\n",
      "Max Tokens: 4096\n",
      "Input Tokens: 195903\n",
      "Generating 1 queries...\n",
      "Task id: 0 in: 5.91s\n",
      "1 of 1 tasks completed\n",
      "Total time: 5.91s\n",
      "Error count: 0\n"
     ]
    }
   ],
   "source": [
    "await autorest.generate_db_repo()"
   ]
  },
  {
   "cell_type": "code",
   "execution_count": 9,
   "metadata": {},
   "outputs": [
    {
     "name": "stdout",
     "output_type": "stream",
     "text": [
      "Initializing Anthropic Client...\n",
      "Model: claude-3-opus\n",
      "Model Var: claude-3-opus-20240229\n",
      "Max Tokens: 4096\n",
      "Input Tokens: 195903\n",
      "Generating 1 queries...\n",
      "Task id: 0 in: 30.77s\n",
      "1 of 1 tasks completed\n",
      "Total time: 30.77s\n",
      "Error count: 0\n"
     ]
    }
   ],
   "source": [
    "rg = await autorest.generate_route_group()"
   ]
  },
  {
   "cell_type": "code",
   "execution_count": 10,
   "metadata": {},
   "outputs": [],
   "source": [
    "url = \"/apu/v1/medical-injury\"\n",
    "example_data = \"\"\"\n",
    "        \"id\": 813b72e6-44d4-401f-809a-1ddeffad95a6\n",
    "        \"injury_id\": \"6416c516-8980-4105-95b6-6f38599ed3c8\",\n",
    "        \"onset_date\": None,\n",
    "        \"onset_date_precision\": None,\n",
    "        \"onset_state\": None,\n",
    "        \"is_diagnosed\": True,\n",
    "        \"diagnosis_date\": \"2015-03-01\",\n",
    "        \"diagnosis_date_precision\": \"Day\",\n",
    "        \"diagnosis_state\": None,\n",
    "        \"diagnosis_provider_id\": None,\n",
    "        \"injury_severity\": None,\n",
    "        \"medical_injury_sub_type\": None,\n",
    "    \"\"\"\n",
    "example_update = \"diagnosis_date: 2015-03-02\""
   ]
  },
  {
   "cell_type": "code",
   "execution_count": 11,
   "metadata": {},
   "outputs": [
    {
     "name": "stdout",
     "output_type": "stream",
     "text": [
      "Initializing Anthropic Client...\n",
      "Model: claude-3-opus\n",
      "Model Var: claude-3-opus-20240229\n",
      "Max Tokens: 4096\n",
      "Input Tokens: 195903\n",
      "Generating 1 queries...\n",
      "Task id: 0 in: 21.65s\n",
      "1 of 1 tasks completed\n",
      "Total time: 21.66s\n",
      "Error count: 0\n"
     ]
    }
   ],
   "source": [
    "await autorest.generate_tests(\"MedicalInjury\", url, example_data, example_update)"
   ]
  },
  {
   "cell_type": "code",
   "execution_count": 13,
   "metadata": {},
   "outputs": [
    {
     "data": {
      "text/plain": [
       "{'pydantic_model': 'medicalinjury_model.py',\n",
       " 'db_repo': 'medicalinjury_repo.py',\n",
       " 'route_group': 'medicalinjury_routes.py',\n",
       " 'tests': 'medicalinjury_tests.py'}"
      ]
     },
     "execution_count": 13,
     "metadata": {},
     "output_type": "execute_result"
    }
   ],
   "source": [
    "autorest.dump_to_files(output_dir=output_dir)"
   ]
  }
 ],
 "metadata": {
  "kernelspec": {
   "display_name": "venv",
   "language": "python",
   "name": "python3"
  },
  "language_info": {
   "codemirror_mode": {
    "name": "ipython",
    "version": 3
   },
   "file_extension": ".py",
   "mimetype": "text/x-python",
   "name": "python",
   "nbconvert_exporter": "python",
   "pygments_lexer": "ipython3",
   "version": "3.10.11"
  }
 },
 "nbformat": 4,
 "nbformat_minor": 2
}
