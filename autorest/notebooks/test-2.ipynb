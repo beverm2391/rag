{
 "cells": [
  {
   "cell_type": "code",
   "execution_count": 1,
   "metadata": {},
   "outputs": [],
   "source": [
    "from autorest.lib import DynamicOutputValidator\n",
    "from autorest.examples import broken_code_examples\n",
    "import nest_asyncio\n",
    "nest_asyncio.apply()"
   ]
  },
  {
   "cell_type": "code",
   "execution_count": 2,
   "metadata": {},
   "outputs": [],
   "source": [
    "e1, e2, e3, e4, e5 = broken_code_examples"
   ]
  },
  {
   "cell_type": "code",
   "execution_count": 7,
   "metadata": {},
   "outputs": [
    {
     "name": "stdout",
     "output_type": "stream",
     "text": [
      "Running example 1\n",
      "Code is invalid. Exception:  '(' was never closed (<string>, line 3)\n",
      "Regenerating code... try 1 / 3\n",
      "Code is valid!\n",
      "Test(result=True, code='def greet(name):\\n    print(\"Hello, \" + name)')\n",
      "Running example 2\n",
      "Code is invalid. Exception:  unsupported operand type(s) for +: 'int' and 'str'\n",
      "Regenerating code... try 1 / 3\n",
      "Code is valid!\n",
      "Test(result=True, code='def add_numbers(a, b):\\n    return a + int(b)\\n\\nresult = add_numbers(5, \"10\")')\n",
      "Running example 3\n",
      "Woof!\n",
      "Code is invalid. Exception:  'Dog' object has no attribute 'wag_tail'\n",
      "Regenerating code... try 1 / 3\n",
      "Woof!\n",
      "*wags tail*\n",
      "Code is valid!\n",
      "Test(result=True, code='class Dog:\\n    def __init__(self, name):\\n        self.name = name\\n\\n    def bark(self):\\n        print(\"Woof!\")\\n\\n    def wag_tail(self):\\n        print(\"*wags tail*\")\\n\\nmy_dog = Dog(\"Buddy\")\\nmy_dog.bark()\\nmy_dog.wag_tail()')\n",
      "Running example 4\n",
      "Code is invalid. Exception:  list index out of range\n",
      "Regenerating code... try 1 / 3\n",
      "Code is invalid. Exception:  list index out of range\n",
      "Regenerating code... try 2 / 3\n",
      "Code is invalid. Exception:  list index out of range\n",
      "Regenerating code... try 3 / 3\n",
      "Test(result=False, code='numbers = [1, 2, 3, 4, 5]\\nprint(numbers[5])')\n",
      "Running example 5\n",
      "Code is invalid. Exception:  name 'factorial' is not defined\n",
      "Regenerating code... try 1 / 3\n",
      "1\n",
      "Code is valid!\n",
      "Test(result=True, code='def factorial(n):\\n    if n in [0, 1]:\\n        return 1\\n    else:\\n        return n * factorial(n - 1)\\n\\nprint(factorial(0))')\n"
     ]
    }
   ],
   "source": [
    "for i, e in enumerate(broken_code_examples):\n",
    "    print(f\"Running example {i+1}\")\n",
    "    dov = DynamicOutputValidator(e, retries=3)\n",
    "    res = await dov.regenerate()\n",
    "    print(res)"
   ]
  },
  {
   "cell_type": "code",
   "execution_count": 4,
   "metadata": {},
   "outputs": [
    {
     "name": "stdout",
     "output_type": "stream",
     "text": [
      "Code is invalid. Exception:  '(' was never closed (<string>, line 3)\n",
      "Regenerating code... try 1 / 3\n",
      "Code is valid!\n"
     ]
    }
   ],
   "source": [
    "regen = await dov.regenerate()"
   ]
  },
  {
   "cell_type": "code",
   "execution_count": 6,
   "metadata": {},
   "outputs": [
    {
     "data": {
      "text/plain": [
       "Test(result=True, code='def greet(name):\\n    print(\"Hello, \" + name)')"
      ]
     },
     "execution_count": 6,
     "metadata": {},
     "output_type": "execute_result"
    }
   ],
   "source": [
    "regen"
   ]
  }
 ],
 "metadata": {
  "kernelspec": {
   "display_name": "venv",
   "language": "python",
   "name": "python3"
  },
  "language_info": {
   "codemirror_mode": {
    "name": "ipython",
    "version": 3
   },
   "file_extension": ".py",
   "mimetype": "text/x-python",
   "name": "python",
   "nbconvert_exporter": "python",
   "pygments_lexer": "ipython3",
   "version": "3.10.11"
  }
 },
 "nbformat": 4,
 "nbformat_minor": 2
}
