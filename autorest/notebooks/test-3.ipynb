{
 "cells": [
  {
   "cell_type": "code",
   "execution_count": 1,
   "metadata": {},
   "outputs": [],
   "source": [
    "from autorest.generators import PydanticModelGenerator\n",
    "from autorest.lib import DynamicOutputValidator, GenerativeConfig\n",
    "import nest_asyncio\n",
    "nest_asyncio.apply()\n",
    "\n",
    "import random"
   ]
  },
  {
   "cell_type": "code",
   "execution_count": 9,
   "metadata": {},
   "outputs": [],
   "source": [
    "ROOT_DIR = \"/Users/beneverman/Documents/Code/Tekmir/case-management-pipeline/case_management_pipeline/projects/api-hub\"\n",
    "db_models = f\"api_hub/database/models.py\"\n",
    "routes_dir = f\"api_hub/api/v1/routes/\"\n",
    "db_repos = f\"api_hub/database/repositories/\"\n",
    "pydantic_models = f\"api_hub/api/models.py\""
   ]
  },
  {
   "cell_type": "code",
   "execution_count": 10,
   "metadata": {},
   "outputs": [],
   "source": [
    "config = GenerativeConfig(root_dir=ROOT_DIR, debug=True)"
   ]
  },
  {
   "cell_type": "code",
   "execution_count": 15,
   "metadata": {},
   "outputs": [
    {
     "name": "stdout",
     "output_type": "stream",
     "text": [
      "joining relative path to root dir /Users/beneverman/Documents/Code/Tekmir/case-management-pipeline/case_management_pipeline/projects/api-hub\n"
     ]
    },
    {
     "data": {
      "text/plain": [
       "{'routes': [{'route': '',\n",
       "   'method': 'GET',\n",
       "   'function': 'async def get_exposures(\\n    page: int = 1,\\n    page_size: int = 10,\\n    sort: str = None,\\n    db: AsyncSession = Depends(get_db_session),\\n):\\n    repo = ExposureDatabaseRepository(db)\\n    items = await repo.filter(\\n        page=page, page_size=page_size, sort=desc(sort) if sort else None\\n    )\\n    return items'},\n",
       "  {'route': '/{pk}',\n",
       "   'method': 'GET',\n",
       "   'function': 'async def get_exposure(\\n    pk: uuid.UUID,\\n    db: AsyncSession = Depends(get_db_session),\\n):\\n    repo = ExposureDatabaseRepository(db)\\n\\n    try:\\n        exposure = await repo.get(pk)\\n    except Exception as e:\\n        logger.error(f\"Error getting exposure with id {pk}: {e}\")\\n        raise HTTPException(\\n            status_code=500, detail=f\"Error getting exposure with id {pk}\"\\n        )\\n\\n    if not exposure:\\n        logger.error(f\"Exposure with id {pk} not found\")\\n        raise HTTPException(status_code=404, detail=f\"Exposure with id {pk} not found\")\\n\\n    response = ExposureSchema.model_validate(exposure.__dict__)\\n\\n    return response'},\n",
       "  {'route': '',\n",
       "   'method': 'POST',\n",
       "   'function': 'async def create_exposure(\\n    exposure: ExposureSchema, db: AsyncSession = Depends(get_db_session)\\n):\\n    repo = ExposureDatabaseRepository(db)\\n    try:\\n        new_exposure = await repo.create(exposure.model_dump())\\n    except Exception as e:\\n        logger.error(f\"Error creating exposure: {e}\")\\n        raise HTTPException(status_code=500, detail=\"Error creating exposure\")\\n\\n    # we have to do this because the db has fields that are not in the schema\\n    validated = ExposureSchema.model_validate(new_exposure.__dict__)\\n\\n    return validated'},\n",
       "  {'route': '/{pk}',\n",
       "   'method': 'PUT',\n",
       "   'function': 'async def update_exposure(\\n    pk: uuid.UUID,\\n    exposure: ExposureSchema,\\n    db: AsyncSession = Depends(get_db_session),\\n):\\n    repo = ExposureDatabaseRepository(db)\\n\\n    try:\\n        updated_exposure = await repo.update(pk, exposure.model_dump())\\n    except Exception as e:\\n        logger.error(f\"Error updating exposure with id {pk}: {e}\")\\n        raise HTTPException(\\n            status_code=500,\\n            detail=f\"Error updating exposure with id {pk}. Message: {e}\",\\n        )\\n\\n    validated = ExposureSchema.model_validate(updated_exposure.__dict__)\\n\\n    return validated'},\n",
       "  {'route': '/{pk}',\n",
       "   'method': 'DELETE',\n",
       "   'function': 'async def delete_exposure(\\n    pk: uuid.UUID,\\n    db: AsyncSession = Depends(get_db_session),\\n):\\n    repo = ExposureDatabaseRepository(db)\\n\\n    try:\\n        await repo.delete(pk)\\n    except Exception as e:\\n        logger.error(f\"Error deleting exposure with id {pk}. Message: {e}\")\\n        raise HTTPException(\\n            status_code=500, detail=f\"Error deleting exposure with id {pk}. Message {e}\"\\n        )\\n\\n    return JSONResponse(status_code=204, content=\"Exposure deleted\")'}]}"
      ]
     },
     "execution_count": 15,
     "metadata": {},
     "output_type": "execute_result"
    }
   ],
   "source": [
    "res = config.get_route_group(routes_dir + 'exposure.py')\n",
    "res.model_dump()"
   ]
  },
  {
   "cell_type": "code",
   "execution_count": 4,
   "metadata": {},
   "outputs": [
    {
     "name": "stdout",
     "output_type": "stream",
     "text": [
      "joining relative path to root dir /Users/beneverman/Documents/Code/Tekmir/case-management-pipeline/case_management_pipeline/projects/api-hub\n"
     ]
    }
   ],
   "source": [
    "config.set_db_models(db_models)"
   ]
  },
  {
   "cell_type": "code",
   "execution_count": 5,
   "metadata": {},
   "outputs": [
    {
     "name": "stdout",
     "output_type": "stream",
     "text": [
      "Initializing OpenAI Client...\n",
      "Model: gpt-4-turbo\n",
      "Model Var: gpt-4-turbo-preview\n",
      "Max Tokens: 4096\n",
      "Input Tokens: 123903\n",
      "Generating 1 queries...\n",
      "Task id: 0 in: 4.33s\n",
      "1 of 1 tasks completed\n",
      "Total time: 4.34s\n",
      "Error count: 0\n",
      "Trying code:\n",
      "from uuid import UUID\n",
      "from pydantic import BaseModel, ConfigDict\n",
      "class MatterOutcomeReasonSchema(BaseModel):\n",
      "    id: UUID\n",
      "    outcome_reason: str\n",
      "\n",
      "    class Config(ConfigDict):\n",
      "        from_attributes = True\n",
      "        use_enum_values = True\n",
      "Code is valid!\n"
     ]
    }
   ],
   "source": [
    "keys_list = list(config.db_models.keys())\n",
    "random_index = random.randint(0, len(keys_list))\n",
    "await config.generate_pydantic_model(keys_list[random_index])"
   ]
  },
  {
   "cell_type": "code",
   "execution_count": 6,
   "metadata": {},
   "outputs": [
    {
     "name": "stdout",
     "output_type": "stream",
     "text": [
      "Initializing OpenAI Client...\n",
      "Model: gpt-3.5-turbo\n",
      "Model Var: gpt-3.5-turbo\n",
      "Max Tokens: 4096\n",
      "Input Tokens: 12288\n",
      "Generating 1 queries...\n",
      "Task id: 0 in: 1.95s\n",
      "1 of 1 tasks completed\n",
      "Total time: 1.95s\n",
      "Error count: 0\n",
      "Trying code:\n",
      "from api_hub.database import models\n",
      "from api_hub.database.repositories.generic import GenericDatabaseRepository\n",
      "from sqlalchemy.ext.asyncio import AsyncSession\n",
      "class MatterOutcomeReasonDatabaseRepository(GenericDatabaseRepository):\n",
      "    def __init__(self, session: AsyncSession, *args, **kwargs) -> None:\n",
      "        super().__init__(models.MatterOutcomeReason, session, *args, **kwargs)\n",
      "Code is invalid. Exception:  No module named 'api_hub'\n",
      "Regenerating code... try 1 / 2\n",
      "Trying code:\n",
      "from api_hub.database import models\n",
      "from api_hub.database.repositories.generic import GenericDatabaseRepository\n",
      "from sqlalchemy.ext.asyncio import AsyncSession\n",
      "class MatterOutcomeReasonDatabaseRepository(GenericDatabaseRepository):\n",
      "    def __init__(self, session: AsyncSession, *args, **kwargs) -> None:\n",
      "        super().__init__(models.MatterOutcomeReason, session, *args, **kwargs)\n",
      "Code is invalid. Exception:  No module named 'api_hub'\n",
      "Regenerating code... try 2 / 2\n"
     ]
    },
    {
     "ename": "Exception",
     "evalue": "Could not generate valid code",
     "output_type": "error",
     "traceback": [
      "\u001b[0;31m---------------------------------------------------------------------------\u001b[0m",
      "\u001b[0;31mException\u001b[0m                                 Traceback (most recent call last)",
      "Cell \u001b[0;32mIn[6], line 1\u001b[0m\n\u001b[0;32m----> 1\u001b[0m \u001b[38;5;28;01mawait\u001b[39;00m config\u001b[38;5;241m.\u001b[39mgenerate_db_repo(keys_list[random_index])\n",
      "File \u001b[0;32m~/Documents/Code/rag/autorest/lib.py:204\u001b[0m, in \u001b[0;36mGenerativeConfig.generate_db_repo\u001b[0;34m(self, name)\u001b[0m\n\u001b[1;32m    202\u001b[0m     \u001b[38;5;28mself\u001b[39m\u001b[38;5;241m.\u001b[39mdb_repo \u001b[38;5;241m=\u001b[39m code\n\u001b[1;32m    203\u001b[0m \u001b[38;5;28;01melse\u001b[39;00m:\n\u001b[0;32m--> 204\u001b[0m     \u001b[38;5;28;01mraise\u001b[39;00m \u001b[38;5;167;01mException\u001b[39;00m(\u001b[38;5;124m\"\u001b[39m\u001b[38;5;124mCould not generate valid code\u001b[39m\u001b[38;5;124m\"\u001b[39m)\n",
      "\u001b[0;31mException\u001b[0m: Could not generate valid code"
     ]
    }
   ],
   "source": [
    "await config.generate_db_repo(keys_list[random_index])"
   ]
  }
 ],
 "metadata": {
  "kernelspec": {
   "display_name": "venv",
   "language": "python",
   "name": "python3"
  },
  "language_info": {
   "codemirror_mode": {
    "name": "ipython",
    "version": 3
   },
   "file_extension": ".py",
   "mimetype": "text/x-python",
   "name": "python",
   "nbconvert_exporter": "python",
   "pygments_lexer": "ipython3",
   "version": "3.10.11"
  }
 },
 "nbformat": 4,
 "nbformat_minor": 2
}
